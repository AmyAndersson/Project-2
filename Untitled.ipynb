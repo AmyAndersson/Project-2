{
 "cells": [
  {
   "cell_type": "code",
   "execution_count": 20,
   "metadata": {},
   "outputs": [],
   "source": [
    "import pandas as pd \n",
    "import matplotlib.pyplot as plt\n",
    "import scipy.stats as sts\n",
    "import numpy as np"
   ]
  },
  {
   "cell_type": "code",
   "execution_count": 7,
   "metadata": {},
   "outputs": [
    {
     "data": {
      "text/html": [
       "<div>\n",
       "<style scoped>\n",
       "    .dataframe tbody tr th:only-of-type {\n",
       "        vertical-align: middle;\n",
       "    }\n",
       "\n",
       "    .dataframe tbody tr th {\n",
       "        vertical-align: top;\n",
       "    }\n",
       "\n",
       "    .dataframe thead th {\n",
       "        text-align: right;\n",
       "    }\n",
       "</style>\n",
       "<table border=\"1\" class=\"dataframe\">\n",
       "  <thead>\n",
       "    <tr style=\"text-align: right;\">\n",
       "      <th></th>\n",
       "      <th>Species</th>\n",
       "      <th>Common Name</th>\n",
       "      <th>Category</th>\n",
       "      <th>Type of Presence</th>\n",
       "      <th>Comments</th>\n",
       "      <th>Location(s)</th>\n",
       "      <th>Kingdom</th>\n",
       "      <th>Phylum</th>\n",
       "      <th>Class</th>\n",
       "      <th>Order</th>\n",
       "      <th>Family</th>\n",
       "      <th>EPBC Act Threatened Species in Australia (Generated 2020-09-29 22:36:16)</th>\n",
       "    </tr>\n",
       "  </thead>\n",
       "  <tbody>\n",
       "    <tr>\n",
       "      <th>0</th>\n",
       "      <td>Abutilon julianae</td>\n",
       "      <td>Norfolk Island Abutilon</td>\n",
       "      <td>Critically Endangered</td>\n",
       "      <td>Endemic</td>\n",
       "      <td>Norfolk Island</td>\n",
       "      <td>AET, NI</td>\n",
       "      <td>Plantae</td>\n",
       "      <td>Magnoliophyta</td>\n",
       "      <td>Magnoliopsida</td>\n",
       "      <td>Malvales</td>\n",
       "      <td>Malvaceae</td>\n",
       "      <td>NaN</td>\n",
       "    </tr>\n",
       "    <tr>\n",
       "      <th>1</th>\n",
       "      <td>Acacia ammophila</td>\n",
       "      <td>NaN</td>\n",
       "      <td>Vulnerable</td>\n",
       "      <td>Endemic</td>\n",
       "      <td>NaN</td>\n",
       "      <td>QLD</td>\n",
       "      <td>Plantae</td>\n",
       "      <td>Magnoliophyta</td>\n",
       "      <td>Magnoliopsida</td>\n",
       "      <td>Fabales</td>\n",
       "      <td>Fabaceae</td>\n",
       "      <td>NaN</td>\n",
       "    </tr>\n",
       "    <tr>\n",
       "      <th>2</th>\n",
       "      <td>Acacia anomala</td>\n",
       "      <td>Grass Wattle, Chittering Grass Wattle</td>\n",
       "      <td>Vulnerable</td>\n",
       "      <td>Endemic</td>\n",
       "      <td>NaN</td>\n",
       "      <td>WA</td>\n",
       "      <td>Plantae</td>\n",
       "      <td>Magnoliophyta</td>\n",
       "      <td>Magnoliopsida</td>\n",
       "      <td>Fabales</td>\n",
       "      <td>Fabaceae</td>\n",
       "      <td>NaN</td>\n",
       "    </tr>\n",
       "    <tr>\n",
       "      <th>3</th>\n",
       "      <td>Acacia aphylla</td>\n",
       "      <td>Leafless Rock Wattle</td>\n",
       "      <td>Vulnerable</td>\n",
       "      <td>Endemic</td>\n",
       "      <td>NaN</td>\n",
       "      <td>WA</td>\n",
       "      <td>Plantae</td>\n",
       "      <td>Magnoliophyta</td>\n",
       "      <td>Magnoliopsida</td>\n",
       "      <td>Fabales</td>\n",
       "      <td>Fabaceae</td>\n",
       "      <td>NaN</td>\n",
       "    </tr>\n",
       "    <tr>\n",
       "      <th>4</th>\n",
       "      <td>Acacia aprica</td>\n",
       "      <td>Blunt Wattle</td>\n",
       "      <td>Endangered</td>\n",
       "      <td>Endemic</td>\n",
       "      <td>NaN</td>\n",
       "      <td>WA</td>\n",
       "      <td>Plantae</td>\n",
       "      <td>Magnoliophyta</td>\n",
       "      <td>Magnoliopsida</td>\n",
       "      <td>Fabales</td>\n",
       "      <td>Fabaceae</td>\n",
       "      <td>NaN</td>\n",
       "    </tr>\n",
       "  </tbody>\n",
       "</table>\n",
       "</div>"
      ],
      "text/plain": [
       "             Species                            Common Name  \\\n",
       "0  Abutilon julianae                Norfolk Island Abutilon   \n",
       "1   Acacia ammophila                                    NaN   \n",
       "2     Acacia anomala  Grass Wattle, Chittering Grass Wattle   \n",
       "3     Acacia aphylla                   Leafless Rock Wattle   \n",
       "4      Acacia aprica                           Blunt Wattle   \n",
       "\n",
       "                Category Type of Presence        Comments Location(s)  \\\n",
       "0  Critically Endangered          Endemic  Norfolk Island     AET, NI   \n",
       "1             Vulnerable          Endemic             NaN         QLD   \n",
       "2             Vulnerable          Endemic             NaN          WA   \n",
       "3             Vulnerable          Endemic             NaN          WA   \n",
       "4             Endangered          Endemic             NaN          WA   \n",
       "\n",
       "   Kingdom         Phylum          Class     Order     Family  \\\n",
       "0  Plantae  Magnoliophyta  Magnoliopsida  Malvales  Malvaceae   \n",
       "1  Plantae  Magnoliophyta  Magnoliopsida   Fabales   Fabaceae   \n",
       "2  Plantae  Magnoliophyta  Magnoliopsida   Fabales   Fabaceae   \n",
       "3  Plantae  Magnoliophyta  Magnoliopsida   Fabales   Fabaceae   \n",
       "4  Plantae  Magnoliophyta  Magnoliopsida   Fabales   Fabaceae   \n",
       "\n",
       "   EPBC Act Threatened Species in Australia (Generated 2020-09-29 22:36:16)  \n",
       "0                                                NaN                         \n",
       "1                                                NaN                         \n",
       "2                                                NaN                         \n",
       "3                                                NaN                         \n",
       "4                                                NaN                         "
      ]
     },
     "execution_count": 7,
     "metadata": {},
     "output_type": "execute_result"
    }
   ],
   "source": [
    "speciesfile = \"species.csv\"\n",
    "\n",
    "# Read our Kickstarter data into pandas\n",
    "species_DB = pd.read_csv(speciesfile)\n",
    "species_DB.head()\n"
   ]
  },
  {
   "cell_type": "code",
   "execution_count": 14,
   "metadata": {},
   "outputs": [
    {
     "data": {
      "text/plain": [
       "Index(['Species', 'Common Name', 'Category', 'Type of Presence', 'Comments',\n",
       "       'Location(s)', 'Kingdom', 'Phylum', 'Class', 'Order', 'Family',\n",
       "       'EPBC Act Threatened Species in Australia (Generated 2020-09-29 22:36:16)'],\n",
       "      dtype='object')"
      ]
     },
     "execution_count": 14,
     "metadata": {},
     "output_type": "execute_result"
    }
   ],
   "source": [
    "species_DB.columns"
   ]
  },
  {
   "cell_type": "code",
   "execution_count": 15,
   "metadata": {},
   "outputs": [],
   "source": [
    "species_by_cat = species_DB.groupby(\"Category\")\n"
   ]
  },
  {
   "cell_type": "code",
   "execution_count": 27,
   "metadata": {},
   "outputs": [],
   "source": [
    "species_chart= species_by_cat.count()\n"
   ]
  },
  {
   "cell_type": "code",
   "execution_count": 28,
   "metadata": {},
   "outputs": [
    {
     "data": {
      "text/plain": [
       "array([0, 1, 2, 3, 4, 5])"
      ]
     },
     "execution_count": 28,
     "metadata": {},
     "output_type": "execute_result"
    }
   ],
   "source": [
    "x_axis = np.arange(len(species_chart))\n",
    "x_axis"
   ]
  },
  {
   "cell_type": "code",
   "execution_count": null,
   "metadata": {},
   "outputs": [],
   "source": [
    "\n"
   ]
  },
  {
   "cell_type": "code",
   "execution_count": null,
   "metadata": {},
   "outputs": [],
   "source": [
    "\n"
   ]
  }
 ],
 "metadata": {
  "kernelspec": {
   "display_name": "Python 3",
   "language": "python",
   "name": "python3"
  },
  "language_info": {
   "codemirror_mode": {
    "name": "ipython",
    "version": 3
   },
   "file_extension": ".py",
   "mimetype": "text/x-python",
   "name": "python",
   "nbconvert_exporter": "python",
   "pygments_lexer": "ipython3",
   "version": "3.7.7"
  }
 },
 "nbformat": 4,
 "nbformat_minor": 4
}
